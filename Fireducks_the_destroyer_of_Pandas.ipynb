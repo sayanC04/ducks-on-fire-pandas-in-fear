{
  "nbformat": 4,
  "nbformat_minor": 0,
  "metadata": {
    "colab": {
      "provenance": []
    },
    "kernelspec": {
      "name": "python3",
      "display_name": "Python 3"
    },
    "language_info": {
      "name": "python"
    }
  },
  "cells": [
    {
      "cell_type": "markdown",
      "source": [
        "## Installation Commands (Required Libraries):"
      ],
      "metadata": {
        "id": "lHCI4zi8bzIV"
      }
    },
    {
      "cell_type": "code",
      "execution_count": null,
      "metadata": {
        "colab": {
          "base_uri": "https://localhost:8080/"
        },
        "id": "oBAfSsV8asCY",
        "outputId": "0658c787-c160-4577-b8e9-b8a116c0a556"
      },
      "outputs": [
        {
          "output_type": "stream",
          "name": "stdout",
          "text": [
            "Collecting fireducks\n",
            "  Downloading fireducks-1.2.7-cp311-cp311-manylinux_2_28_x86_64.whl.metadata (1.0 kB)\n",
            "Requirement already satisfied: pandas in /usr/local/lib/python3.11/dist-packages (2.2.2)\n",
            "Requirement already satisfied: matplotlib in /usr/local/lib/python3.11/dist-packages (3.10.0)\n",
            "Requirement already satisfied: numpy in /usr/local/lib/python3.11/dist-packages (2.0.2)\n",
            "Requirement already satisfied: duckdb in /usr/local/lib/python3.11/dist-packages (1.2.2)\n",
            "Collecting firefw==1.2.7 (from fireducks)\n",
            "  Downloading firefw-1.2.7-py3-none-any.whl.metadata (818 bytes)\n",
            "Collecting pyarrow<19.1,>=19.0 (from fireducks)\n",
            "  Downloading pyarrow-19.0.1-cp311-cp311-manylinux_2_28_x86_64.whl.metadata (3.3 kB)\n",
            "Requirement already satisfied: python-dateutil>=2.8.2 in /usr/local/lib/python3.11/dist-packages (from pandas) (2.9.0.post0)\n",
            "Requirement already satisfied: pytz>=2020.1 in /usr/local/lib/python3.11/dist-packages (from pandas) (2025.2)\n",
            "Requirement already satisfied: tzdata>=2022.7 in /usr/local/lib/python3.11/dist-packages (from pandas) (2025.2)\n",
            "Requirement already satisfied: contourpy>=1.0.1 in /usr/local/lib/python3.11/dist-packages (from matplotlib) (1.3.2)\n",
            "Requirement already satisfied: cycler>=0.10 in /usr/local/lib/python3.11/dist-packages (from matplotlib) (0.12.1)\n",
            "Requirement already satisfied: fonttools>=4.22.0 in /usr/local/lib/python3.11/dist-packages (from matplotlib) (4.57.0)\n",
            "Requirement already satisfied: kiwisolver>=1.3.1 in /usr/local/lib/python3.11/dist-packages (from matplotlib) (1.4.8)\n",
            "Requirement already satisfied: packaging>=20.0 in /usr/local/lib/python3.11/dist-packages (from matplotlib) (24.2)\n",
            "Requirement already satisfied: pillow>=8 in /usr/local/lib/python3.11/dist-packages (from matplotlib) (11.2.1)\n",
            "Requirement already satisfied: pyparsing>=2.3.1 in /usr/local/lib/python3.11/dist-packages (from matplotlib) (3.2.3)\n",
            "Requirement already satisfied: six>=1.5 in /usr/local/lib/python3.11/dist-packages (from python-dateutil>=2.8.2->pandas) (1.17.0)\n",
            "Downloading fireducks-1.2.7-cp311-cp311-manylinux_2_28_x86_64.whl (7.4 MB)\n",
            "\u001b[2K   \u001b[90m━━━━━━━━━━━━━━━━━━━━━━━━━━━━━━━━━━━━━━━━\u001b[0m \u001b[32m7.4/7.4 MB\u001b[0m \u001b[31m44.2 MB/s\u001b[0m eta \u001b[36m0:00:00\u001b[0m\n",
            "\u001b[?25hDownloading firefw-1.2.7-py3-none-any.whl (12 kB)\n",
            "Downloading pyarrow-19.0.1-cp311-cp311-manylinux_2_28_x86_64.whl (42.1 MB)\n",
            "\u001b[2K   \u001b[90m━━━━━━━━━━━━━━━━━━━━━━━━━━━━━━━━━━━━━━━━\u001b[0m \u001b[32m42.1/42.1 MB\u001b[0m \u001b[31m16.9 MB/s\u001b[0m eta \u001b[36m0:00:00\u001b[0m\n",
            "\u001b[?25hInstalling collected packages: pyarrow, firefw, fireducks\n",
            "  Attempting uninstall: pyarrow\n",
            "    Found existing installation: pyarrow 18.1.0\n",
            "    Uninstalling pyarrow-18.1.0:\n",
            "      Successfully uninstalled pyarrow-18.1.0\n",
            "Successfully installed fireducks-1.2.7 firefw-1.2.7 pyarrow-19.0.1\n"
          ]
        }
      ],
      "source": [
        "pip install fireducks pandas matplotlib numpy duckdb"
      ]
    },
    {
      "cell_type": "markdown",
      "source": [
        "##Enable Benchmark Mode (FireDucks Special):"
      ],
      "metadata": {
        "id": "ub5tbqVOcS89"
      }
    },
    {
      "cell_type": "code",
      "source": [
        "FIREDUCKS_FLAGS = \"--benchmark-mode\""
      ],
      "metadata": {
        "id": "cV2RZzyobtdc"
      },
      "execution_count": null,
      "outputs": []
    },
    {
      "cell_type": "markdown",
      "source": [
        "##Code to Generate Large Dataset (10 Million Rows):"
      ],
      "metadata": {
        "id": "BDekHCsYc1f8"
      }
    },
    {
      "cell_type": "code",
      "source": [
        "import pandas as pd\n",
        "import numpy as np\n",
        "\n",
        "# Create 10 Million rows\n",
        "df = pd.DataFrame({\n",
        "    'user_id': np.random.randint(1, 1_000_000, 10_000_000),\n",
        "    'amount': np.random.rand(10_000_000) * 1000,  # up to 1000\n",
        "    'category': np.random.choice(['food', 'tech', 'fashion', 'travel'], 10_000_000),\n",
        "    'timestamp': pd.date_range(start='2021-01-01', periods=10_000_000, freq='s')\n",
        "})\n",
        "\n",
        "# Save to CSV\n",
        "df.to_csv('large_dataset.csv', index=False)\n",
        "\n",
        "print(\"Dataset with 10 Million Rows Generated Successfully!\")\n"
      ],
      "metadata": {
        "colab": {
          "base_uri": "https://localhost:8080/"
        },
        "id": "Kyl3U4xKcZ30",
        "outputId": "75de16ec-6969-4ae5-8a0b-1343a773deb3"
      },
      "execution_count": null,
      "outputs": [
        {
          "output_type": "stream",
          "name": "stdout",
          "text": [
            "Dataset with 10 Million Rows Generated Successfully!\n"
          ]
        }
      ]
    },
    {
      "cell_type": "markdown",
      "source": [
        "##Basic CSV Read & Filter:"
      ],
      "metadata": {
        "id": "U3W_CFVzdJdp"
      }
    },
    {
      "cell_type": "code",
      "source": [
        "import os\n",
        "import time\n",
        "\n",
        "## for Pandas\n",
        "import pandas as pd\n",
        "start_time = time.time()\n",
        "pdf = pd.read_csv('large_dataset.csv')\n",
        "print(pdf.head())\n",
        "print(\"Pandas Read Time:\", time.time() - start_time)\n",
        "\n",
        "## for FireDucks\n",
        "import fireducks.pandas as fd\n",
        "start_time = time.time()\n",
        "fdf = fd.read_csv('large_dataset.csv')\n",
        "print(fdf.head())\n",
        "print(\"FireDucks Read Time:\", time.time() - start_time)\n"
      ],
      "metadata": {
        "colab": {
          "base_uri": "https://localhost:8080/"
        },
        "id": "YtboASScdCPE",
        "outputId": "af8ec2a3-5714-4c0d-de2c-892a12ac0d89"
      },
      "execution_count": null,
      "outputs": [
        {
          "output_type": "stream",
          "name": "stdout",
          "text": [
            "   user_id      amount category            timestamp\n",
            "0   684621  792.799848     food  2021-01-01 00:00:00\n",
            "1   696679  751.784540     food  2021-01-01 00:00:01\n",
            "2   344597  266.554975     tech  2021-01-01 00:00:02\n",
            "3   331010  349.805167     food  2021-01-01 00:00:03\n",
            "4   798942  270.092752     food  2021-01-01 00:00:04\n",
            "Pandas Read Time: 11.741949319839478\n",
            "   user_id      amount category            timestamp\n",
            "0   684621  792.799848     food  2021-01-01 00:00:00\n",
            "1   696679  751.784540     food  2021-01-01 00:00:01\n",
            "2   344597  266.554975     tech  2021-01-01 00:00:02\n",
            "3   331010  349.805167     food  2021-01-01 00:00:03\n",
            "4   798942  270.092752     food  2021-01-01 00:00:04\n",
            "FireDucks Read Time: 2.432565450668335\n"
          ]
        }
      ]
    },
    {
      "cell_type": "markdown",
      "source": [
        "##GroupBy Category (Average amount):"
      ],
      "metadata": {
        "id": "xU4V9_-Fdost"
      }
    },
    {
      "cell_type": "code",
      "source": [
        "## for Pandas\n",
        "start = time.time()\n",
        "pdf_grouped = pdf.groupby('category')['amount'].mean().reset_index()\n",
        "print(pdf_grouped)\n",
        "print(\"Pandas GroupBy Time:\", time.time() - start)\n",
        "\n",
        "## for FireDucks\n",
        "start = time.time()\n",
        "fdf_grouped = fdf.groupby('category')['amount'].mean().reset_index()\n",
        "print(fdf_grouped)\n",
        "print(\"FireDucks GroupBy Time:\", time.time() - start)"
      ],
      "metadata": {
        "colab": {
          "base_uri": "https://localhost:8080/"
        },
        "id": "i5jpfDNDdjgc",
        "outputId": "7a49ac94-cf56-47cb-a3f8-90fab5ad641c"
      },
      "execution_count": null,
      "outputs": [
        {
          "output_type": "stream",
          "name": "stdout",
          "text": [
            "  category      amount\n",
            "0  fashion  500.126624\n",
            "1     food  499.567134\n",
            "2     tech  499.824126\n",
            "3   travel  499.873354\n",
            "Pandas GroupBy Time: 0.8861682415008545\n",
            "  category      amount\n",
            "0  fashion  500.126624\n",
            "1     food  499.567134\n",
            "2     tech  499.824126\n",
            "3   travel  499.873354\n",
            "FireDucks GroupBy Time: 0.2503812313079834\n"
          ]
        }
      ]
    },
    {
      "cell_type": "markdown",
      "source": [
        "\n",
        "##Filter + GroupBy (amount > 500 → Avg amount per category):"
      ],
      "metadata": {
        "id": "PZcEso7VeY9o"
      }
    },
    {
      "cell_type": "code",
      "source": [
        "## for Pandas\n",
        "start = time.time()\n",
        "pdf_result = pdf[pdf['amount'] > 500].groupby('category')['amount'].mean().reset_index()\n",
        "print(pdf_result)\n",
        "print(\"Pandas Filter + GroupBy Time:\", time.time() - start)\n",
        "\n",
        "## for FireDucks\n",
        "start = time.time()\n",
        "fdf_result = fdf[fdf['amount'] > 500].groupby('category')['amount'].mean().reset_index()\n",
        "print(fdf_result)\n",
        "print(\"FireDucks Filter + GroupBy Time:\", time.time() - start)\n"
      ],
      "metadata": {
        "colab": {
          "base_uri": "https://localhost:8080/"
        },
        "id": "UFk1UsMTeQm0",
        "outputId": "47d21c33-0228-4b1e-b2b5-74cf501d5ec0"
      },
      "execution_count": null,
      "outputs": [
        {
          "output_type": "stream",
          "name": "stdout",
          "text": [
            "  category      amount\n",
            "0  fashion  750.169299\n",
            "1     food  750.010270\n",
            "2     tech  749.733898\n",
            "3   travel  749.924984\n",
            "Pandas Filter + GroupBy Time: 1.0695066452026367\n",
            "  category      amount\n",
            "0  fashion  750.169299\n",
            "1     food  750.010270\n",
            "2     tech  749.733898\n",
            "3   travel  749.924984\n",
            "FireDucks Filter + GroupBy Time: 0.26174187660217285\n"
          ]
        }
      ]
    },
    {
      "cell_type": "markdown",
      "source": [
        "##Sort by amount (Descending):"
      ],
      "metadata": {
        "id": "7x-riCpoemxq"
      }
    },
    {
      "cell_type": "code",
      "source": [
        "\n",
        "## for Pandas\n",
        "start = time.time()\n",
        "pdf_sorted = pdf.sort_values('amount', ascending=False).groupby('category').head(5)\n",
        "print(\"Pandas Sort Time:\", time.time() - start)\n",
        "\n",
        "## for FireDucks\n",
        "start = time.time()\n",
        "fdf_sorted = fdf.sort_values('amount', ascending=False).groupby('category').head(5)\n",
        "print(\"FireDucks Sort Time:\", time.time() - start)\n"
      ],
      "metadata": {
        "colab": {
          "base_uri": "https://localhost:8080/"
        },
        "id": "e9IJi39ieez1",
        "outputId": "407bdc0e-6943-4717-b6f4-9cccb78f04c6"
      },
      "execution_count": null,
      "outputs": [
        {
          "output_type": "stream",
          "name": "stdout",
          "text": [
            "Pandas Sort Time: 9.294556140899658\n",
            "FireDucks Sort Time: 0.0005669593811035156\n"
          ]
        }
      ]
    },
    {
      "cell_type": "markdown",
      "source": [
        "##Count Transactions per Category\n",
        "\n",
        "\n"
      ],
      "metadata": {
        "id": "hW6H6MjFdK3K"
      }
    },
    {
      "cell_type": "code",
      "source": [
        "# Pandas\n",
        "start_time = time.time()\n",
        "pdf_grouped = pdf.groupby('category')['user_id'].count().reset_index()\n",
        "print(pdf_grouped.head())\n",
        "print(\"Pandas Count Time:\", time.time() - start_time)\n",
        "\n",
        "# FireDucks\n",
        "start_time = time.time()\n",
        "fdf_grouped = fdf.groupby('category')['user_id'].count().reset_index()\n",
        "print(fdf_grouped.head())\n",
        "print(\"FireDucks Count Time:\", time.time() - start_time)"
      ],
      "metadata": {
        "id": "Tre_ur-Ddnxk",
        "colab": {
          "base_uri": "https://localhost:8080/"
        },
        "outputId": "7d7a462a-97cf-42bd-f474-5e4a47ec0377"
      },
      "execution_count": null,
      "outputs": [
        {
          "output_type": "stream",
          "name": "stdout",
          "text": [
            "  category  user_id\n",
            "0  fashion  2498072\n",
            "1     food  2499548\n",
            "2     tech  2501266\n",
            "3   travel  2501114\n",
            "Pandas Count Time: 0.9411382675170898\n",
            "  category  user_id\n",
            "0  fashion  2498072\n",
            "1     food  2499548\n",
            "2     tech  2501266\n",
            "3   travel  2501114\n",
            "FireDucks Count Time: 0.22287201881408691\n"
          ]
        }
      ]
    },
    {
      "cell_type": "markdown",
      "source": [
        "##Total Amount per Category\n"
      ],
      "metadata": {
        "id": "yQLqBF7nfHTw"
      }
    },
    {
      "cell_type": "code",
      "source": [
        "# Pandas\n",
        "start_time = time.time()\n",
        "pdf_total = pdf.groupby('category')['amount'].sum().reset_index()\n",
        "print(pdf_total.head())\n",
        "print(\"Pandas Total Amount Time:\", time.time() - start_time)\n",
        "\n",
        "# FireDucks\n",
        "start_time = time.time()\n",
        "fdf_total = fdf.groupby('category')['amount'].sum().reset_index()\n",
        "print(fdf_total.head())\n",
        "print(\"FireDucks Total Amount Time:\", time.time() - start_time)"
      ],
      "metadata": {
        "colab": {
          "base_uri": "https://localhost:8080/"
        },
        "id": "bTfSADWUe9C9",
        "outputId": "017ce581-5ecc-4393-edd9-ca6814a9f58c"
      },
      "execution_count": null,
      "outputs": [
        {
          "output_type": "stream",
          "name": "stdout",
          "text": [
            "  category        amount\n",
            "0  fashion  1.249352e+09\n",
            "1     food  1.248692e+09\n",
            "2     tech  1.250193e+09\n",
            "3   travel  1.250240e+09\n",
            "Pandas Total Amount Time: 1.0703396797180176\n",
            "  category        amount\n",
            "0  fashion  1.249352e+09\n",
            "1     food  1.248692e+09\n",
            "2     tech  1.250193e+09\n",
            "3   travel  1.250240e+09\n",
            "FireDucks Total Amount Time: 0.23946905136108398\n"
          ]
        }
      ]
    },
    {
      "cell_type": "markdown",
      "source": [
        "##Performance Comparison: Pandas vs FireDucks (Bar Chart):"
      ],
      "metadata": {
        "id": "U0noRsCXerMA"
      }
    },
    {
      "cell_type": "code",
      "source": [
        "import matplotlib.pyplot as plt\n",
        "\n",
        "# Operation Names\n",
        "operations = ['CSV Read + Filter', 'GroupBy', 'Filter + GroupBy', 'Sort', 'Count Transactions', 'Total Amount']\n",
        "\n",
        "# Execution Times (in seconds)\n",
        "pandas_times = [11.74, 0.88, 1.06, 9.29, 0.94, 1.07]      # Pandas Times\n",
        "fireducks_times = [2.43, 0.25, 0.26, 0.00, 0.22, 0.23]     # FireDucks Times\n",
        "\n",
        "x = range(len(operations))\n",
        "\n",
        "plt.figure(figsize=(10, 6))\n",
        "plt.bar(x, pandas_times, width=0.35, label='Pandas', color='green')\n",
        "plt.bar([i + 0.35 for i in x], fireducks_times, width=0.35, label='FireDucks', color='violet')\n",
        "\n",
        "plt.xlabel('Operations')\n",
        "plt.ylabel('Execution Time (seconds)')\n",
        "plt.title('Pandas vs FireDucks - Benchmark Results')\n",
        "plt.xticks([i + 0.175 for i in x], operations, rotation=15)\n",
        "plt.legend()\n",
        "plt.grid(axis='y', linestyle='--', alpha=0.7)\n",
        "\n",
        "plt.tight_layout()\n",
        "plt.show()"
      ],
      "metadata": {
        "colab": {
          "base_uri": "https://localhost:8080/",
          "height": 607
        },
        "id": "0t4GLkqpevSe",
        "outputId": "11598b97-0b96-4376-ffe2-38693c38438f"
      },
      "execution_count": 13,
      "outputs": [
        {
          "output_type": "display_data",
          "data": {
            "text/plain": [
              "<Figure size 1000x600 with 1 Axes>"
            ],
            "image/png": "[encoded data removed]"
          },
          "metadata": {}
        }
      ]
    }
  ]
}