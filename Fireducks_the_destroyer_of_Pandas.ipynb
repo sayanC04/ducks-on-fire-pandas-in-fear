{
  "nbformat": 4,
  "nbformat_minor": 0,
  "metadata": {
    "colab": {
      "provenance": []
    },
    "kernelspec": {
      "name": "python3",
      "display_name": "Python 3"
    },
    "language_info": {
      "name": "python"
    }
  },
  "cells": [
    {
      "cell_type": "markdown",
      "source": [
        "## Installation Commands (Required Libraries):"
      ],
      "metadata": {
        "id": "lHCI4zi8bzIV"
      }
    },
    {
      "cell_type": "code",
      "execution_count": 1,
      "metadata": {
        "colab": {
          "base_uri": "https://localhost:8080/"
        },
        "id": "oBAfSsV8asCY",
        "outputId": "4e8198fb-0d7d-4d89-992c-7b25213baf38"
      },
      "outputs": [
        {
          "output_type": "stream",
          "name": "stdout",
          "text": [
            "Requirement already satisfied: fireducks in /usr/local/lib/python3.11/dist-packages (1.2.8)\n",
            "Requirement already satisfied: pandas in /usr/local/lib/python3.11/dist-packages (2.2.2)\n",
            "Requirement already satisfied: matplotlib in /usr/local/lib/python3.11/dist-packages (3.10.0)\n",
            "Requirement already satisfied: numpy in /usr/local/lib/python3.11/dist-packages (2.0.2)\n",
            "Requirement already satisfied: duckdb in /usr/local/lib/python3.11/dist-packages (1.2.2)\n",
            "Requirement already satisfied: firefw==1.2.8 in /usr/local/lib/python3.11/dist-packages (from fireducks) (1.2.8)\n",
            "Requirement already satisfied: pyarrow<19.1,>=19.0 in /usr/local/lib/python3.11/dist-packages (from fireducks) (19.0.1)\n",
            "Requirement already satisfied: python-dateutil>=2.8.2 in /usr/local/lib/python3.11/dist-packages (from pandas) (2.9.0.post0)\n",
            "Requirement already satisfied: pytz>=2020.1 in /usr/local/lib/python3.11/dist-packages (from pandas) (2025.2)\n",
            "Requirement already satisfied: tzdata>=2022.7 in /usr/local/lib/python3.11/dist-packages (from pandas) (2025.2)\n",
            "Requirement already satisfied: contourpy>=1.0.1 in /usr/local/lib/python3.11/dist-packages (from matplotlib) (1.3.2)\n",
            "Requirement already satisfied: cycler>=0.10 in /usr/local/lib/python3.11/dist-packages (from matplotlib) (0.12.1)\n",
            "Requirement already satisfied: fonttools>=4.22.0 in /usr/local/lib/python3.11/dist-packages (from matplotlib) (4.58.0)\n",
            "Requirement already satisfied: kiwisolver>=1.3.1 in /usr/local/lib/python3.11/dist-packages (from matplotlib) (1.4.8)\n",
            "Requirement already satisfied: packaging>=20.0 in /usr/local/lib/python3.11/dist-packages (from matplotlib) (24.2)\n",
            "Requirement already satisfied: pillow>=8 in /usr/local/lib/python3.11/dist-packages (from matplotlib) (11.2.1)\n",
            "Requirement already satisfied: pyparsing>=2.3.1 in /usr/local/lib/python3.11/dist-packages (from matplotlib) (3.2.3)\n",
            "Requirement already satisfied: six>=1.5 in /usr/local/lib/python3.11/dist-packages (from python-dateutil>=2.8.2->pandas) (1.17.0)\n"
          ]
        }
      ],
      "source": [
        "pip install fireducks pandas matplotlib numpy duckdb"
      ]
    },
    {
      "cell_type": "markdown",
      "source": [
        "##Enable Benchmark Mode (FireDucks Special):"
      ],
      "metadata": {
        "id": "ub5tbqVOcS89"
      }
    },
    {
      "cell_type": "code",
      "source": [
        "import os\n",
        "os.environ[\"FIREDUCKS_FLAGS\"] = \"--benchmark-mode\""
      ],
      "metadata": {
        "id": "cV2RZzyobtdc"
      },
      "execution_count": 2,
      "outputs": []
    },
    {
      "cell_type": "markdown",
      "source": [
        "##Code to Generate Large Dataset (10 Million Rows):"
      ],
      "metadata": {
        "id": "BDekHCsYc1f8"
      }
    },
    {
      "cell_type": "code",
      "source": [
        "import pandas as pd\n",
        "import numpy as np\n",
        "\n",
        "# Create 10 Million rows\n",
        "df = pd.DataFrame({\n",
        "    'user_id': np.random.randint(1, 1_000_000, 10_000_000),\n",
        "    'amount': np.random.rand(10_000_000) * 1000,  # up to 1000\n",
        "    'category': np.random.choice(['food', 'tech', 'fashion', 'travel'], 10_000_000),\n",
        "    'timestamp': pd.date_range(start='2021-01-01', periods=10_000_000, freq='s')\n",
        "})\n",
        "\n",
        "# Save to CSV\n",
        "df.to_csv('large_dataset.csv', index=False)\n",
        "\n",
        "print(\"Dataset with 10 Million Rows Generated Successfully!\")\n"
      ],
      "metadata": {
        "colab": {
          "base_uri": "https://localhost:8080/"
        },
        "id": "Kyl3U4xKcZ30",
        "outputId": "c841e546-c8fb-48a4-8b40-928ff8d64e6b"
      },
      "execution_count": 3,
      "outputs": [
        {
          "output_type": "stream",
          "name": "stdout",
          "text": [
            "Dataset with 10 Million Rows Generated Successfully!\n"
          ]
        }
      ]
    },
    {
      "cell_type": "markdown",
      "source": [
        "##Basic CSV Read & Filter:"
      ],
      "metadata": {
        "id": "U3W_CFVzdJdp"
      }
    },
    {
      "cell_type": "code",
      "source": [
        "import os\n",
        "import time\n",
        "\n",
        "## for Pandas\n",
        "import pandas as pd\n",
        "start_time = time.time()\n",
        "pdf = pd.read_csv('large_dataset.csv')\n",
        "print(pdf.head())\n",
        "print(\"Pandas Read Time:\", time.time() - start_time)\n",
        "\n",
        "## for FireDucks\n",
        "import fireducks.pandas as fd\n",
        "start_time = time.time()\n",
        "fdf = fd.read_csv('large_dataset.csv')\n",
        "print(fdf.head())\n",
        "print(\"FireDucks Read Time:\", time.time() - start_time)\n"
      ],
      "metadata": {
        "colab": {
          "base_uri": "https://localhost:8080/"
        },
        "id": "YtboASScdCPE",
        "outputId": "bc43bbbe-1319-420a-b308-52ad7a7d6ed4"
      },
      "execution_count": 4,
      "outputs": [
        {
          "output_type": "stream",
          "name": "stdout",
          "text": [
            "   user_id      amount category            timestamp\n",
            "0   883227  778.516915  fashion  2021-01-01 00:00:00\n",
            "1     9714  445.218871     tech  2021-01-01 00:00:01\n",
            "2   384243  872.526174  fashion  2021-01-01 00:00:02\n",
            "3   940892  632.265345  fashion  2021-01-01 00:00:03\n",
            "4   856344  963.104442  fashion  2021-01-01 00:00:04\n",
            "Pandas Read Time: 13.672954559326172\n",
            "   user_id      amount category            timestamp\n",
            "0   883227  778.516915  fashion  2021-01-01 00:00:00\n",
            "1     9714  445.218871     tech  2021-01-01 00:00:01\n",
            "2   384243  872.526174  fashion  2021-01-01 00:00:02\n",
            "3   940892  632.265345  fashion  2021-01-01 00:00:03\n",
            "4   856344  963.104442  fashion  2021-01-01 00:00:04\n",
            "FireDucks Read Time: 2.64827299118042\n"
          ]
        }
      ]
    },
    {
      "cell_type": "markdown",
      "source": [
        "##GroupBy Category (Average amount):"
      ],
      "metadata": {
        "id": "xU4V9_-Fdost"
      }
    },
    {
      "cell_type": "code",
      "source": [
        "## for Pandas\n",
        "start = time.time()\n",
        "pdf_grouped = pdf.groupby('category')['amount'].mean().reset_index()\n",
        "print(pdf_grouped)\n",
        "print(\"Pandas GroupBy Time:\", time.time() - start)\n",
        "\n",
        "## for FireDucks\n",
        "start = time.time()\n",
        "fdf_grouped = fdf.groupby('category')['amount'].mean().reset_index()\n",
        "print(fdf_grouped)\n",
        "print(\"FireDucks GroupBy Time:\", time.time() - start)"
      ],
      "metadata": {
        "colab": {
          "base_uri": "https://localhost:8080/"
        },
        "id": "i5jpfDNDdjgc",
        "outputId": "15d50155-5298-44f7-b5c2-afc65ea95d4d"
      },
      "execution_count": 5,
      "outputs": [
        {
          "output_type": "stream",
          "name": "stdout",
          "text": [
            "  category      amount\n",
            "0  fashion  499.779968\n",
            "1     food  499.929447\n",
            "2     tech  500.108681\n",
            "3   travel  500.127916\n",
            "Pandas GroupBy Time: 1.133331060409546\n",
            "  category      amount\n",
            "0  fashion  499.779968\n",
            "1     food  499.929447\n",
            "2     tech  500.108681\n",
            "3   travel  500.127916\n",
            "FireDucks GroupBy Time: 0.2903892993927002\n"
          ]
        }
      ]
    },
    {
      "cell_type": "markdown",
      "source": [
        "\n",
        "##Filter + GroupBy (amount > 500 → Avg amount per category):"
      ],
      "metadata": {
        "id": "PZcEso7VeY9o"
      }
    },
    {
      "cell_type": "code",
      "source": [
        "## for Pandas\n",
        "start = time.time()\n",
        "pdf_result = pdf[pdf['amount'] > 500].groupby('category')['amount'].mean().reset_index()\n",
        "print(pdf_result)\n",
        "print(\"Pandas Filter + GroupBy Time:\", time.time() - start)\n",
        "\n",
        "## for FireDucks\n",
        "start = time.time()\n",
        "fdf_result = fdf[fdf['amount'] > 500].groupby('category')['amount'].mean().reset_index()\n",
        "print(fdf_result)\n",
        "print(\"FireDucks Filter + GroupBy Time:\", time.time() - start)\n"
      ],
      "metadata": {
        "colab": {
          "base_uri": "https://localhost:8080/"
        },
        "id": "UFk1UsMTeQm0",
        "outputId": "c9184f69-1f07-4af2-feb8-99bf46939284"
      },
      "execution_count": 6,
      "outputs": [
        {
          "output_type": "stream",
          "name": "stdout",
          "text": [
            "  category      amount\n",
            "0  fashion  749.896275\n",
            "1     food  749.998028\n",
            "2     tech  750.143038\n",
            "3   travel  750.168491\n",
            "Pandas Filter + GroupBy Time: 1.0269274711608887\n",
            "  category      amount\n",
            "0  fashion  749.896275\n",
            "1     food  749.998028\n",
            "2     tech  750.143038\n",
            "3   travel  750.168491\n",
            "FireDucks Filter + GroupBy Time: 0.4077315330505371\n"
          ]
        }
      ]
    },
    {
      "cell_type": "markdown",
      "source": [
        "##Sort by amount (Descending):"
      ],
      "metadata": {
        "id": "7x-riCpoemxq"
      }
    },
    {
      "cell_type": "code",
      "source": [
        "\n",
        "## for Pandas\n",
        "start = time.time()\n",
        "pdf_sorted = pdf.sort_values('amount', ascending=False).groupby('category').head(5)\n",
        "print(pdf_sorted)\n",
        "print(\"Pandas Sort Time:\", time.time() - start)\n",
        "\n",
        "## for FireDucks\n",
        "start = time.time()\n",
        "fdf_sorted = fdf.sort_values('amount', ascending=False).groupby('category').head(5)\n",
        "print(fdf_sorted)\n",
        "print(\"FireDucks Sort Time:\", time.time() - start)\n",
        "\n"
      ],
      "metadata": {
        "colab": {
          "base_uri": "https://localhost:8080/"
        },
        "id": "e9IJi39ieez1",
        "outputId": "b1d30848-cc46-4450-db38-f088c34ab273"
      },
      "execution_count": 7,
      "outputs": [
        {
          "output_type": "stream",
          "name": "stdout",
          "text": [
            "         user_id      amount category            timestamp\n",
            "3717615   595410  999.999967     tech  2021-02-13 00:40:15\n",
            "1499237   715978  999.999964     tech  2021-01-18 08:27:17\n",
            "4164382   143012  999.999844     food  2021-02-18 04:46:22\n",
            "1471937   793240  999.999820     tech  2021-01-18 00:52:17\n",
            "8895355   308218  999.999703   travel  2021-04-13 22:55:55\n",
            "1287432   841317  999.999636     tech  2021-01-15 21:37:12\n",
            "9817016   737468  999.999432     food  2021-04-24 14:56:56\n",
            "3360827   846047  999.999281  fashion  2021-02-08 21:33:47\n",
            "2239390   480386  999.999237     tech  2021-01-26 22:03:10\n",
            "7736825   211426  999.998991   travel  2021-03-31 13:07:05\n",
            "3062037   986205  999.998941     food  2021-02-05 10:33:57\n",
            "104508    211284  999.998931   travel  2021-01-02 05:01:48\n",
            "8981570   393383  999.998863  fashion  2021-04-14 22:52:50\n",
            "616193    208589  999.998703     food  2021-01-08 03:09:53\n",
            "6795483   471190  999.998645   travel  2021-03-20 15:38:03\n",
            "3070076     9380  999.998547     food  2021-02-05 12:47:56\n",
            "1079942    73971  999.997877   travel  2021-01-13 11:59:02\n",
            "8477786    36036  999.997721  fashion  2021-04-09 02:56:26\n",
            "2937132   418362  999.997593  fashion  2021-02-03 23:52:12\n",
            "5381298   279083  999.997316  fashion  2021-03-04 06:48:18\n",
            "Pandas Sort Time: 13.159614324569702\n",
            "         user_id      amount category            timestamp\n",
            "3717615   595410  999.999967     tech  2021-02-13 00:40:15\n",
            "1499237   715978  999.999964     tech  2021-01-18 08:27:17\n",
            "4164382   143012  999.999844     food  2021-02-18 04:46:22\n",
            "1471937   793240  999.999820     tech  2021-01-18 00:52:17\n",
            "8895355   308218  999.999703   travel  2021-04-13 22:55:55\n",
            "1287432   841317  999.999636     tech  2021-01-15 21:37:12\n",
            "9817016   737468  999.999432     food  2021-04-24 14:56:56\n",
            "3360827   846047  999.999281  fashion  2021-02-08 21:33:47\n",
            "2239390   480386  999.999237     tech  2021-01-26 22:03:10\n",
            "7736825   211426  999.998991   travel  2021-03-31 13:07:05\n",
            "3062037   986205  999.998941     food  2021-02-05 10:33:57\n",
            "104508    211284  999.998931   travel  2021-01-02 05:01:48\n",
            "8981570   393383  999.998863  fashion  2021-04-14 22:52:50\n",
            "616193    208589  999.998703     food  2021-01-08 03:09:53\n",
            "6795483   471190  999.998645   travel  2021-03-20 15:38:03\n",
            "3070076     9380  999.998547     food  2021-02-05 12:47:56\n",
            "1079942    73971  999.997877   travel  2021-01-13 11:59:02\n",
            "8477786    36036  999.997721  fashion  2021-04-09 02:56:26\n",
            "2937132   418362  999.997593  fashion  2021-02-03 23:52:12\n",
            "5381298   279083  999.997316  fashion  2021-03-04 06:48:18\n",
            "FireDucks Sort Time: 9.427291631698608\n"
          ]
        }
      ]
    },
    {
      "cell_type": "markdown",
      "source": [
        "##Count Transactions per Category\n",
        "\n",
        "\n"
      ],
      "metadata": {
        "id": "hW6H6MjFdK3K"
      }
    },
    {
      "cell_type": "code",
      "source": [
        "# Pandas\n",
        "start_time = time.time()\n",
        "pdf_grouped = pdf.groupby('category')['user_id'].count().reset_index()\n",
        "print(pdf_grouped.head())\n",
        "print(\"Pandas Count Time:\", time.time() - start_time)\n",
        "\n",
        "# FireDucks\n",
        "start_time = time.time()\n",
        "fdf_grouped = fdf.groupby('category')['user_id'].count().reset_index()\n",
        "print(fdf_grouped.head())\n",
        "print(\"FireDucks Count Time:\", time.time() - start_time)"
      ],
      "metadata": {
        "id": "Tre_ur-Ddnxk",
        "colab": {
          "base_uri": "https://localhost:8080/"
        },
        "outputId": "7e798790-ca45-42c0-ce82-e3bc99abd824"
      },
      "execution_count": 8,
      "outputs": [
        {
          "output_type": "stream",
          "name": "stdout",
          "text": [
            "  category  user_id\n",
            "0  fashion  2500496\n",
            "1     food  2500335\n",
            "2     tech  2500866\n",
            "3   travel  2498303\n",
            "Pandas Count Time: 0.7953543663024902\n",
            "  category  user_id\n",
            "0  fashion  2500496\n",
            "1     food  2500335\n",
            "2     tech  2500866\n",
            "3   travel  2498303\n",
            "FireDucks Count Time: 0.24725675582885742\n"
          ]
        }
      ]
    },
    {
      "cell_type": "markdown",
      "source": [
        "##Total Amount per Category\n"
      ],
      "metadata": {
        "id": "yQLqBF7nfHTw"
      }
    },
    {
      "cell_type": "code",
      "source": [
        "# Pandas\n",
        "start_time = time.time()\n",
        "pdf_total = pdf.groupby('category')['amount'].sum().reset_index()\n",
        "print(pdf_total.head())\n",
        "print(\"Pandas Total Amount Time:\", time.time() - start_time)\n",
        "\n",
        "# FireDucks\n",
        "start_time = time.time()\n",
        "fdf_total = fdf.groupby('category')['amount'].sum().reset_index()\n",
        "print(fdf_total.head())\n",
        "print(\"FireDucks Total Amount Time:\", time.time() - start_time)"
      ],
      "metadata": {
        "colab": {
          "base_uri": "https://localhost:8080/"
        },
        "id": "bTfSADWUe9C9",
        "outputId": "9fcf7d5b-2efa-49f3-9361-8eee09ec94f1"
      },
      "execution_count": 9,
      "outputs": [
        {
          "output_type": "stream",
          "name": "stdout",
          "text": [
            "  category        amount\n",
            "0  fashion  1.249698e+09\n",
            "1     food  1.249991e+09\n",
            "2     tech  1.250705e+09\n",
            "3   travel  1.249471e+09\n",
            "Pandas Total Amount Time: 0.8197705745697021\n",
            "  category        amount\n",
            "0  fashion  1.249698e+09\n",
            "1     food  1.249991e+09\n",
            "2     tech  1.250705e+09\n",
            "3   travel  1.249471e+09\n",
            "FireDucks Total Amount Time: 0.26024699211120605\n"
          ]
        }
      ]
    },
    {
      "cell_type": "markdown",
      "source": [
        "##Performance Comparison: Pandas vs FireDucks (Bar Chart):"
      ],
      "metadata": {
        "id": "U0noRsCXerMA"
      }
    },
    {
      "cell_type": "code",
      "source": [
        "import matplotlib.pyplot as plt\n",
        "\n",
        "# Operation Names\n",
        "operations = ['CSV Read + Filter', 'GroupBy', 'Filter + GroupBy', 'Sort', 'Count Transactions', 'Total Amount']\n",
        "\n",
        "# Execution Times (in seconds)\n",
        "pandas_times = [13.67, 1.13, 1.02, 13.15, 0.79, 0.81]      # Pandas Times\n",
        "fireducks_times = [2.64, 0.29, 0.40, 9.42, 0.24, 0.26]     # FireDucks Times\n",
        "\n",
        "x = range(len(operations))\n",
        "\n",
        "plt.figure(figsize=(10, 6))\n",
        "plt.bar(x, pandas_times, width=0.35, label='Pandas', color='green')\n",
        "plt.bar([i + 0.35 for i in x], fireducks_times, width=0.35, label='FireDucks', color='violet')\n",
        "\n",
        "plt.xlabel('Operations')\n",
        "plt.ylabel('Execution Time (seconds)')\n",
        "plt.title('Pandas vs FireDucks - Benchmark Results')\n",
        "plt.xticks([i + 0.175 for i in x], operations, rotation=15)\n",
        "plt.legend()\n",
        "plt.grid(axis='y', linestyle='--', alpha=0.7)\n",
        "\n",
        "plt.tight_layout()\n",
        "plt.show()"
      ],
      "metadata": {
        "colab": {
          "base_uri": "https://localhost:8080/",
          "height": 607
        },
        "id": "0t4GLkqpevSe",
        "outputId": "626e9efd-c812-44da-bbe0-485918b3f637"
      },
      "execution_count": 10,
      "outputs": [
        {
          "output_type": "display_data",
          "data": {
            "text/plain": [
              "<Figure size 1000x600 with 1 Axes>"
            ],
            "image/png": "[encoded data removed]"
          },
          "metadata": {}
        }
      ]
    }
  ]
}