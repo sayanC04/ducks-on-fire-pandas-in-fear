{
  "nbformat": 4,
  "nbformat_minor": 0,
  "metadata": {
    "colab": {
      "provenance": [],
      "gpuType": "V28"
    },
    "kernelspec": {
      "name": "python3",
      "display_name": "Python 3"
    },
    "language_info": {
      "name": "python"
    },
    "accelerator": "TPU"
  },
  "cells": [
    {
      "cell_type": "markdown",
      "source": [
        "## Installation Commands (Required Libraries):"
      ],
      "metadata": {
        "id": "lHCI4zi8bzIV"
      }
    },
    {
      "cell_type": "code",
      "execution_count": 2,
      "metadata": {
        "colab": {
          "base_uri": "https://localhost:8080/"
        },
        "id": "oBAfSsV8asCY",
        "outputId": "f4594cc1-9a92-4c3e-b25b-4a5703d5f310"
      },
      "outputs": [
        {
          "output_type": "stream",
          "name": "stdout",
          "text": [
            "Collecting fireducks\n",
            "  Downloading fireducks-1.2.8-cp311-cp311-manylinux_2_28_x86_64.whl.metadata (1.0 kB)\n",
            "Requirement already satisfied: pandas in /usr/local/lib/python3.11/dist-packages (2.2.2)\n",
            "Requirement already satisfied: matplotlib in /usr/local/lib/python3.11/dist-packages (3.10.0)\n",
            "Requirement already satisfied: numpy in /usr/local/lib/python3.11/dist-packages (2.0.2)\n",
            "Collecting duckdb\n",
            "  Downloading duckdb-1.2.2-cp311-cp311-manylinux_2_17_x86_64.manylinux2014_x86_64.whl.metadata (966 bytes)\n",
            "Collecting firefw==1.2.8 (from fireducks)\n",
            "  Downloading firefw-1.2.8-py3-none-any.whl.metadata (818 bytes)\n",
            "Collecting pyarrow<19.1,>=19.0 (from fireducks)\n",
            "  Downloading pyarrow-19.0.1-cp311-cp311-manylinux_2_28_x86_64.whl.metadata (3.3 kB)\n",
            "Requirement already satisfied: python-dateutil>=2.8.2 in /usr/local/lib/python3.11/dist-packages (from pandas) (2.9.0.post0)\n",
            "Requirement already satisfied: pytz>=2020.1 in /usr/local/lib/python3.11/dist-packages (from pandas) (2025.2)\n",
            "Requirement already satisfied: tzdata>=2022.7 in /usr/local/lib/python3.11/dist-packages (from pandas) (2025.2)\n",
            "Requirement already satisfied: contourpy>=1.0.1 in /usr/local/lib/python3.11/dist-packages (from matplotlib) (1.3.2)\n",
            "Requirement already satisfied: cycler>=0.10 in /usr/local/lib/python3.11/dist-packages (from matplotlib) (0.12.1)\n",
            "Requirement already satisfied: fonttools>=4.22.0 in /usr/local/lib/python3.11/dist-packages (from matplotlib) (4.58.0)\n",
            "Requirement already satisfied: kiwisolver>=1.3.1 in /usr/local/lib/python3.11/dist-packages (from matplotlib) (1.4.8)\n",
            "Requirement already satisfied: packaging>=20.0 in /usr/local/lib/python3.11/dist-packages (from matplotlib) (25.0)\n",
            "Requirement already satisfied: pillow>=8 in /usr/local/lib/python3.11/dist-packages (from matplotlib) (11.2.1)\n",
            "Requirement already satisfied: pyparsing>=2.3.1 in /usr/local/lib/python3.11/dist-packages (from matplotlib) (3.2.3)\n",
            "Requirement already satisfied: six>=1.5 in /usr/local/lib/python3.11/dist-packages (from python-dateutil>=2.8.2->pandas) (1.17.0)\n",
            "Downloading fireducks-1.2.8-cp311-cp311-manylinux_2_28_x86_64.whl (7.4 MB)\n",
            "\u001b[2K   \u001b[90m━━━━━━━━━━━━━━━━━━━━━━━━━━━━━━━━━━━━━━━━\u001b[0m \u001b[32m7.4/7.4 MB\u001b[0m \u001b[31m48.9 MB/s\u001b[0m eta \u001b[36m0:00:00\u001b[0m\n",
            "\u001b[?25hDownloading firefw-1.2.8-py3-none-any.whl (12 kB)\n",
            "Downloading duckdb-1.2.2-cp311-cp311-manylinux_2_17_x86_64.manylinux2014_x86_64.whl (20.2 MB)\n",
            "\u001b[2K   \u001b[90m━━━━━━━━━━━━━━━━━━━━━━━━━━━━━━━━━━━━━━━━\u001b[0m \u001b[32m20.2/20.2 MB\u001b[0m \u001b[31m107.6 MB/s\u001b[0m eta \u001b[36m0:00:00\u001b[0m\n",
            "\u001b[?25hDownloading pyarrow-19.0.1-cp311-cp311-manylinux_2_28_x86_64.whl (42.1 MB)\n",
            "\u001b[2K   \u001b[90m━━━━━━━━━━━━━━━━━━━━━━━━━━━━━━━━━━━━━━━━\u001b[0m \u001b[32m42.1/42.1 MB\u001b[0m \u001b[31m34.4 MB/s\u001b[0m eta \u001b[36m0:00:00\u001b[0m\n",
            "\u001b[?25hInstalling collected packages: pyarrow, firefw, duckdb, fireducks\n",
            "  Attempting uninstall: pyarrow\n",
            "    Found existing installation: pyarrow 20.0.0\n",
            "    Uninstalling pyarrow-20.0.0:\n",
            "      Successfully uninstalled pyarrow-20.0.0\n",
            "Successfully installed duckdb-1.2.2 fireducks-1.2.8 firefw-1.2.8 pyarrow-19.0.1\n"
          ]
        }
      ],
      "source": [
        "pip install fireducks pandas matplotlib numpy duckdb"
      ]
    },
    {
      "cell_type": "markdown",
      "source": [
        "##Enable Benchmark Mode (FireDucks Special):"
      ],
      "metadata": {
        "id": "ub5tbqVOcS89"
      }
    },
    {
      "cell_type": "code",
      "source": [
        "import os\n",
        "os.environ[\"FIREDUCKS_FLAGS\"] = \"--benchmark-mode\""
      ],
      "metadata": {
        "id": "cV2RZzyobtdc"
      },
      "execution_count": 1,
      "outputs": []
    },
    {
      "cell_type": "markdown",
      "source": [
        "##Code to Generate Large Dataset (10 Million Rows):"
      ],
      "metadata": {
        "id": "BDekHCsYc1f8"
      }
    },
    {
      "cell_type": "code",
      "source": [
        "import pandas as pd\n",
        "import numpy as np\n",
        "\n",
        "# Create 10 Million rows\n",
        "df = pd.DataFrame({\n",
        "    'user_id': np.random.randint(1, 1_000_000, 10_000_000),\n",
        "    'amount': np.random.rand(10_000_000) * 1000,  # up to 1000\n",
        "    'category': np.random.choice(['food', 'tech', 'fashion', 'travel'], 10_000_000),\n",
        "    'timestamp': pd.date_range(start='2021-01-01', periods=10_000_000, freq='s')\n",
        "})\n",
        "\n",
        "# Save to CSV\n",
        "df.to_csv('large_dataset.csv', index=False)\n",
        "\n",
        "print(\"Dataset with 10 Million Rows Generated Successfully!\")\n"
      ],
      "metadata": {
        "colab": {
          "base_uri": "https://localhost:8080/"
        },
        "id": "Kyl3U4xKcZ30",
        "outputId": "0df30d8a-8779-454d-b3df-7119061e20d6"
      },
      "execution_count": 3,
      "outputs": [
        {
          "output_type": "stream",
          "name": "stdout",
          "text": [
            "Dataset with 10 Million Rows Generated Successfully!\n"
          ]
        }
      ]
    },
    {
      "cell_type": "markdown",
      "source": [
        "##Basic CSV Read & Filter:"
      ],
      "metadata": {
        "id": "U3W_CFVzdJdp"
      }
    },
    {
      "cell_type": "code",
      "source": [
        "import os\n",
        "import time\n",
        "\n",
        "## for Pandas\n",
        "import pandas as pd\n",
        "start_time = time.time()\n",
        "pdf = pd.read_csv('large_dataset.csv')\n",
        "print(pdf.head())\n",
        "print(\"Pandas Read Time:\", time.time() - start_time)\n",
        "\n",
        "## for FireDucks\n",
        "import fireducks.pandas as fd\n",
        "start_time = time.time()\n",
        "fdf = fd.read_csv('large_dataset.csv')\n",
        "print(fdf.head())\n",
        "print(\"FireDucks Read Time:\", time.time() - start_time)\n"
      ],
      "metadata": {
        "colab": {
          "base_uri": "https://localhost:8080/"
        },
        "id": "YtboASScdCPE",
        "outputId": "37e50157-e260-4202-f175-098d3b4231b8"
      },
      "execution_count": 4,
      "outputs": [
        {
          "output_type": "stream",
          "name": "stdout",
          "text": [
            "   user_id      amount category            timestamp\n",
            "0   861163  980.991232     food  2021-01-01 00:00:00\n",
            "1   292043  206.753054  fashion  2021-01-01 00:00:01\n",
            "2   331434  710.767222     tech  2021-01-01 00:00:02\n",
            "3   506545  991.120228   travel  2021-01-01 00:00:03\n",
            "4    35820  747.152859     food  2021-01-01 00:00:04\n",
            "Pandas Read Time: 7.291675806045532\n",
            "   user_id      amount category            timestamp\n",
            "0   861163  980.991232     food  2021-01-01 00:00:00\n",
            "1   292043  206.753054  fashion  2021-01-01 00:00:01\n",
            "2   331434  710.767222     tech  2021-01-01 00:00:02\n",
            "3   506545  991.120228   travel  2021-01-01 00:00:03\n",
            "4    35820  747.152859     food  2021-01-01 00:00:04\n",
            "FireDucks Read Time: 0.9654207229614258\n"
          ]
        }
      ]
    },
    {
      "cell_type": "markdown",
      "source": [
        "##GroupBy Category (Average amount):"
      ],
      "metadata": {
        "id": "xU4V9_-Fdost"
      }
    },
    {
      "cell_type": "code",
      "source": [
        "## for Pandas\n",
        "start = time.time()\n",
        "pdf_grouped = pdf.groupby('category')['amount'].mean().reset_index()\n",
        "print(pdf_grouped)\n",
        "print(\"Pandas GroupBy Time:\", time.time() - start)\n",
        "\n",
        "## for FireDucks\n",
        "start = time.time()\n",
        "fdf_grouped = fdf.groupby('category')['amount'].mean().reset_index()\n",
        "print(fdf_grouped)\n",
        "print(\"FireDucks GroupBy Time:\", time.time() - start)"
      ],
      "metadata": {
        "colab": {
          "base_uri": "https://localhost:8080/"
        },
        "id": "i5jpfDNDdjgc",
        "outputId": "f7785d3d-ffda-494e-d994-efa79fb8d140"
      },
      "execution_count": 5,
      "outputs": [
        {
          "output_type": "stream",
          "name": "stdout",
          "text": [
            "  category      amount\n",
            "0  fashion  499.864728\n",
            "1     food  499.891573\n",
            "2     tech  500.181180\n",
            "3   travel  500.048947\n",
            "Pandas GroupBy Time: 0.6722166538238525\n",
            "  category      amount\n",
            "0  fashion  499.864728\n",
            "1     food  499.891573\n",
            "2     tech  500.181180\n",
            "3   travel  500.048947\n",
            "FireDucks GroupBy Time: 0.041873931884765625\n"
          ]
        }
      ]
    },
    {
      "cell_type": "markdown",
      "source": [
        "\n",
        "##Filter + GroupBy (amount > 500 → Avg amount per category):"
      ],
      "metadata": {
        "id": "PZcEso7VeY9o"
      }
    },
    {
      "cell_type": "code",
      "source": [
        "## for Pandas\n",
        "start = time.time()\n",
        "pdf_result = pdf[pdf['amount'] > 500].groupby('category')['amount'].mean().reset_index()\n",
        "print(pdf_result)\n",
        "print(\"Pandas Filter + GroupBy Time:\", time.time() - start)\n",
        "\n",
        "## for FireDucks\n",
        "start = time.time()\n",
        "fdf_result = fdf[fdf['amount'] > 500].groupby('category')['amount'].mean().reset_index()\n",
        "print(fdf_result)\n",
        "print(\"FireDucks Filter + GroupBy Time:\", time.time() - start)\n"
      ],
      "metadata": {
        "colab": {
          "base_uri": "https://localhost:8080/"
        },
        "id": "UFk1UsMTeQm0",
        "outputId": "a4b9369c-d3e4-41bd-ad5f-432eeccece62"
      },
      "execution_count": 6,
      "outputs": [
        {
          "output_type": "stream",
          "name": "stdout",
          "text": [
            "  category      amount\n",
            "0  fashion  749.812238\n",
            "1     food  749.965448\n",
            "2     tech  749.950170\n",
            "3   travel  749.946124\n",
            "Pandas Filter + GroupBy Time: 0.6942894458770752\n",
            "  category      amount\n",
            "0  fashion  749.812238\n",
            "1     food  749.965448\n",
            "2     tech  749.950170\n",
            "3   travel  749.946124\n",
            "FireDucks Filter + GroupBy Time: 0.24567246437072754\n"
          ]
        }
      ]
    },
    {
      "cell_type": "markdown",
      "source": [
        "##Sort by amount (Descending):"
      ],
      "metadata": {
        "id": "7x-riCpoemxq"
      }
    },
    {
      "cell_type": "code",
      "source": [
        "\n",
        "## for Pandas\n",
        "start = time.time()\n",
        "pdf_sorted = pdf.sort_values('amount', ascending=False).groupby('category').head(5)\n",
        "print(pdf_sorted)\n",
        "print(\"Pandas Sort Time:\", time.time() - start)\n",
        "\n",
        "## for FireDucks\n",
        "start = time.time()\n",
        "fdf_sorted = fdf.sort_values('amount', ascending=False).groupby('category').head(5)\n",
        "print(fdf_sorted)\n",
        "print(\"FireDucks Sort Time:\", time.time() - start)\n",
        "\n"
      ],
      "metadata": {
        "colab": {
          "base_uri": "https://localhost:8080/"
        },
        "id": "e9IJi39ieez1",
        "outputId": "317930e6-edd4-4bc4-bc06-cda7df77aa35"
      },
      "execution_count": 7,
      "outputs": [
        {
          "output_type": "stream",
          "name": "stdout",
          "text": [
            "         user_id      amount category            timestamp\n",
            "6029854   571505  999.999899     tech  2021-03-11 18:57:34\n",
            "5317249   108674  999.999655     tech  2021-03-03 13:00:49\n",
            "7618892   998589  999.999616     food  2021-03-30 04:21:32\n",
            "2299310   928379  999.999509  fashion  2021-01-27 14:41:50\n",
            "6794348   494296  999.999425     tech  2021-03-20 15:19:08\n",
            "9277389   152691  999.999366     food  2021-04-18 09:03:09\n",
            "4037551   793787  999.999327  fashion  2021-02-16 17:32:31\n",
            "6366488   639874  999.999260     food  2021-03-15 16:28:08\n",
            "8850054    71195  999.999136     tech  2021-04-13 10:20:54\n",
            "5337998   799007  999.999125     food  2021-03-03 18:46:38\n",
            "7586122   497669  999.999052  fashion  2021-03-29 19:15:22\n",
            "4840923   882388  999.999004  fashion  2021-02-26 00:42:03\n",
            "3505644   401546  999.998959   travel  2021-02-10 13:47:24\n",
            "4952752   746158  999.998859     food  2021-02-27 07:45:52\n",
            "8720606   774068  999.998145     tech  2021-04-11 22:23:26\n",
            "608309    104379  999.997846   travel  2021-01-08 00:58:29\n",
            "8904238   675692  999.997817  fashion  2021-04-14 01:23:58\n",
            "820926    317705  999.997259   travel  2021-01-10 12:02:06\n",
            "5493868   923253  999.997031   travel  2021-03-05 14:04:28\n",
            "459086     49836  999.996613   travel  2021-01-06 07:31:26\n",
            "Pandas Sort Time: 6.851073265075684\n",
            "         user_id      amount category            timestamp\n",
            "6029854   571505  999.999899     tech  2021-03-11 18:57:34\n",
            "5317249   108674  999.999655     tech  2021-03-03 13:00:49\n",
            "7618892   998589  999.999616     food  2021-03-30 04:21:32\n",
            "2299310   928379  999.999509  fashion  2021-01-27 14:41:50\n",
            "6794348   494296  999.999425     tech  2021-03-20 15:19:08\n",
            "9277389   152691  999.999366     food  2021-04-18 09:03:09\n",
            "4037551   793787  999.999327  fashion  2021-02-16 17:32:31\n",
            "6366488   639874  999.999260     food  2021-03-15 16:28:08\n",
            "8850054    71195  999.999136     tech  2021-04-13 10:20:54\n",
            "5337998   799007  999.999125     food  2021-03-03 18:46:38\n",
            "7586122   497669  999.999052  fashion  2021-03-29 19:15:22\n",
            "4840923   882388  999.999004  fashion  2021-02-26 00:42:03\n",
            "3505644   401546  999.998959   travel  2021-02-10 13:47:24\n",
            "4952752   746158  999.998859     food  2021-02-27 07:45:52\n",
            "8720606   774068  999.998145     tech  2021-04-11 22:23:26\n",
            "608309    104379  999.997846   travel  2021-01-08 00:58:29\n",
            "8904238   675692  999.997817  fashion  2021-04-14 01:23:58\n",
            "820926    317705  999.997259   travel  2021-01-10 12:02:06\n",
            "5493868   923253  999.997031   travel  2021-03-05 14:04:28\n",
            "459086     49836  999.996613   travel  2021-01-06 07:31:26\n",
            "FireDucks Sort Time: 2.86086106300354\n"
          ]
        }
      ]
    },
    {
      "cell_type": "markdown",
      "source": [
        "##Count Transactions per Category\n",
        "\n",
        "\n"
      ],
      "metadata": {
        "id": "hW6H6MjFdK3K"
      }
    },
    {
      "cell_type": "code",
      "source": [
        "# Pandas\n",
        "start_time = time.time()\n",
        "pdf_grouped = pdf.groupby('category')['user_id'].count().reset_index()\n",
        "print(pdf_grouped.head())\n",
        "print(\"Pandas Count Time:\", time.time() - start_time)\n",
        "\n",
        "# FireDucks\n",
        "start_time = time.time()\n",
        "fdf_grouped = fdf.groupby('category')['user_id'].count().reset_index()\n",
        "print(fdf_grouped.head())\n",
        "print(\"FireDucks Count Time:\", time.time() - start_time)"
      ],
      "metadata": {
        "id": "Tre_ur-Ddnxk",
        "colab": {
          "base_uri": "https://localhost:8080/"
        },
        "outputId": "283b7e5c-4c3c-4884-d3bd-96573398c5d5"
      },
      "execution_count": 8,
      "outputs": [
        {
          "output_type": "stream",
          "name": "stdout",
          "text": [
            "  category  user_id\n",
            "0  fashion  2501622\n",
            "1     food  2499370\n",
            "2     tech  2499877\n",
            "3   travel  2499131\n",
            "Pandas Count Time: 0.6319549083709717\n",
            "  category  user_id\n",
            "0  fashion  2501622\n",
            "1     food  2499370\n",
            "2     tech  2499877\n",
            "3   travel  2499131\n",
            "FireDucks Count Time: 0.03932380676269531\n"
          ]
        }
      ]
    },
    {
      "cell_type": "markdown",
      "source": [
        "##Total Amount per Category\n"
      ],
      "metadata": {
        "id": "yQLqBF7nfHTw"
      }
    },
    {
      "cell_type": "code",
      "source": [
        "# Pandas\n",
        "start_time = time.time()\n",
        "pdf_total = pdf.groupby('category')['amount'].sum().reset_index()\n",
        "print(pdf_total.head())\n",
        "print(\"Pandas Total Amount Time:\", time.time() - start_time)\n",
        "\n",
        "# FireDucks\n",
        "start_time = time.time()\n",
        "fdf_total = fdf.groupby('category')['amount'].sum().reset_index()\n",
        "print(fdf_total.head())\n",
        "print(\"FireDucks Total Amount Time:\", time.time() - start_time)"
      ],
      "metadata": {
        "colab": {
          "base_uri": "https://localhost:8080/"
        },
        "id": "bTfSADWUe9C9",
        "outputId": "c17b5edb-c04a-4130-b78f-878d0084da6b"
      },
      "execution_count": 9,
      "outputs": [
        {
          "output_type": "stream",
          "name": "stdout",
          "text": [
            "  category        amount\n",
            "0  fashion  1.250473e+09\n",
            "1     food  1.249414e+09\n",
            "2     tech  1.250391e+09\n",
            "3   travel  1.249688e+09\n",
            "Pandas Total Amount Time: 0.6545534133911133\n",
            "  category        amount\n",
            "0  fashion  1.250473e+09\n",
            "1     food  1.249414e+09\n",
            "2     tech  1.250391e+09\n",
            "3   travel  1.249688e+09\n",
            "FireDucks Total Amount Time: 0.038147926330566406\n"
          ]
        }
      ]
    },
    {
      "cell_type": "markdown",
      "source": [
        "##Performance Comparison: Pandas vs FireDucks (Bar Chart):"
      ],
      "metadata": {
        "id": "U0noRsCXerMA"
      }
    },
    {
      "cell_type": "code",
      "source": [
        "import matplotlib.pyplot as plt\n",
        "\n",
        "# Operation Names\n",
        "operations = ['CSV Read + Filter', 'GroupBy', 'Filter + GroupBy', 'Sort', 'Count Transactions', 'Total Amount']\n",
        "\n",
        "# Execution Times (in seconds)\n",
        "pandas_times = [7.29, 0.67, 0.69, 6.85, 0.63, 0.65]      # Pandas Times\n",
        "fireducks_times = [0.96, 0.04, 0.24, 2.86, 0.39, 0.03]     # FireDucks Times\n",
        "\n",
        "x = range(len(operations))\n",
        "\n",
        "plt.figure(figsize=(10, 6))\n",
        "plt.bar(x, pandas_times, width=0.35, label='Pandas', color='green')\n",
        "plt.bar([i + 0.35 for i in x], fireducks_times, width=0.35, label='FireDucks', color='violet')\n",
        "\n",
        "plt.xlabel('Operations')\n",
        "plt.ylabel('Execution Time (seconds)')\n",
        "plt.title('Pandas vs FireDucks - Benchmark Results')\n",
        "plt.xticks([i + 0.175 for i in x], operations, rotation=15)\n",
        "plt.legend()\n",
        "plt.grid(axis='y', linestyle='--', alpha=0.7)\n",
        "\n",
        "plt.tight_layout()\n",
        "plt.show()"
      ],
      "metadata": {
        "colab": {
          "base_uri": "https://localhost:8080/",
          "height": 607
        },
        "id": "0t4GLkqpevSe",
        "outputId": "46bb76f6-ec37-40f2-c92e-eb49fc072bad"
      },
      "execution_count": 11,
      "outputs": [
        {
          "output_type": "display_data",
          "data": {
            "text/plain": [
              "<Figure size 1000x600 with 1 Axes>"
            ],
            "image/png": "[encoded data removed]"
          },
          "metadata": {}
        }
      ]
    }
  ]
}